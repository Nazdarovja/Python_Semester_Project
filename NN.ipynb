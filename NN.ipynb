{
 "cells": [
  {
   "cell_type": "code",
   "execution_count": 2,
   "metadata": {},
   "outputs": [],
   "source": [
    "from matplotlib import pyplot as plt\n",
    "import numpy as np\n",
    "import math,random\n",
    "from tqdm import tqdm\n",
    "from random import shuffle\n",
    "import pprint\n",
    "\n",
    "import pandas as pd\n",
    "from src.features.build_features import word_count_series\n",
    "from src.features.text_blob_analysis import analyze_lyrics\n",
    "from src.data.make_dataset import create_dataset\n",
    "from src.data.util import unzip_file\n",
    "\n",
    "def step_function(x):\n",
    "    return 1 if x >= 0 else 0\n",
    "\n",
    "\n",
    "def perceptron_output(weights, bias, x):\n",
    "    '''Returns 1 if the perceptrion 'fires', 0 if not '''\n",
    "    return step_function(np.dot(weights, x) + bias)\n",
    "\n",
    "def sigmoid(t):\n",
    "    return 1 / (1 + math.exp(-t))\n",
    "\n",
    "def neuron_output(weights, inputs):\n",
    "    return sigmoid(np.dot(weights, inputs))\n",
    "\n",
    "def predict(input, network):\n",
    "    return feed_forward(network, input)[-1]\n",
    "\n",
    "def feed_forward(neural_network, input_vector):\n",
    "    \"\"\"takes in a neural network (represented as a list of lists of lists of weights)\n",
    "    and returns the output from forward-propagating the input\"\"\"\n",
    "\n",
    "    outputs = []\n",
    "\n",
    "    for layer in neural_network:\n",
    "\n",
    "        input_with_bias = input_vector + [1]             # add a bias input\n",
    "        output = [neuron_output(neuron, input_with_bias) # compute the output\n",
    "                  for neuron in layer]                   # for this layer\n",
    "        outputs.append(output)                           # and remember it\n",
    "\n",
    "        # the input to the next layer is the output of this one\n",
    "        input_vector = output\n",
    "\n",
    "    return outputs\n",
    "    \n",
    "def backpropagate(network, input_vector, targets):\n",
    "    hidden_outputs, outputs = feed_forward(network, input_vector)\n",
    "    \n",
    "  \n",
    "    # the output * (1 - output) is from the derivative of sigmoid\n",
    "    output_deltas = [output * (1 - output) * (output - target) for output, target in zip(outputs, targets)]\n",
    "        # adjust weights for output layer, one neuron at a time\n",
    "    for i, output_neuron in enumerate(network[-1]):\n",
    "    # focus on the ith output layer neuron\n",
    "        for j, hidden_output in enumerate(hidden_outputs + [1]):\n",
    "            # adjust the jth weight based on both\n",
    "            # this neuron's delta and its jth input\n",
    "            output_neuron[j] -= output_deltas[i] * hidden_output\n",
    "    # back-propagate errors to hidden layer\n",
    "    hidden_deltas = [hidden_output * (1 - hidden_output) * np.dot(output_deltas, [n[i] for n in output_layer])for i, hidden_output in enumerate(hidden_outputs)]\n",
    "        \n",
    "    # adjust weights for hidden layer, one neuron at a time\n",
    "    for i, hidden_neuron in enumerate(network[0]):\n",
    "        for j, input in enumerate(input_vector + [1]):\n",
    "            hidden_neuron[j] -= hidden_deltas[i] * input"
   ]
  },
  {
   "cell_type": "code",
   "execution_count": 3,
   "metadata": {},
   "outputs": [
    {
     "name": "stdout",
     "output_type": "stream",
     "text": [
      "Creating missing paths...\n",
      "Skipping unzip...\n",
      "Skipping data filtering...\n",
      "750\n"
     ]
    }
   ],
   "source": [
    "# Importing data\n",
    "what, df = create_dataset()\n",
    "\n",
    "print(len(df))\n",
    "#print(len(testdata_df))\n"
   ]
  },
  {
   "cell_type": "code",
   "execution_count": 4,
   "metadata": {},
   "outputs": [
    {
     "name": "stderr",
     "output_type": "stream",
     "text": [
      "Analyzing sentiment...: 100%|█████████████████████████████████████████████████████████████████████████████████████████████████████████████████| 750/750 [00:01<00:00, 746.71it/s]\n"
     ]
    },
    {
     "name": "stdout",
     "output_type": "stream",
     "text": [
      "[[135, -0.05, 0.25227272727272726], [367, 0.2929487179487179, 0.6051282051282051], [174, 0.2529004329004329, 0.4183982683982685], [162, -0.04561965811965812, 0.4529914529914531], [264, -0.1270408163265306, 0.464030612244898], [219, 0.3233918128654971, 0.6573099415204676], [287, -0.07853535353535353, 0.311489898989899], [175, -0.28333333333333327, 0.6733333333333333], [301, -0.020205026455026462, 0.5448412698412698], [223, 0.35684523809523805, 0.544047619047619], [321, 0.19166666666666668, 0.7666666666666666], [322, 0.030833333333333334, 0.7305555555555558], [215, 0.28055555555555556, 0.5055555555555556], [210, 0.13045314900153607, 0.45410906298003073], [253, 0.22566844919786108, 0.5039215686274511], [222, 0.42063492063492064, 0.6126984126984126], [215, 0.28055555555555556, 0.5055555555555556], [226, -0.569234360410831, 0.9330532212885154], [196, 0.04718253968253968, 0.35635487528344684], [190, 0.13043478260869565, 0.3152173913043478]]\n"
     ]
    }
   ],
   "source": [
    "# targets\n",
    "series = df['genre'].value_counts()\n",
    "genre_labels = series.keys() # getting genre labels\n",
    "targets = [[1 if i == j else 0 for i in genre_labels] for j in df['genre']]\n",
    "# features\n",
    "features_series = word_count_series(df['lyrics'])\n",
    "sentiments = analyze_lyrics(df['lyrics'])\n",
    "\n",
    "\n",
    "inputs = [[feature,s[0], s[1]] for feature, s in zip(features_series, sentiments)]\n",
    "print(inputs[0:20])\n",
    "#shuffle(inputs)\n",
    "#inputs = inputs[0:500]"
   ]
  },
  {
   "cell_type": "code",
   "execution_count": 5,
   "metadata": {},
   "outputs": [
    {
     "name": "stdout",
     "output_type": "stream",
     "text": [
      "[[[0.8444218515250481, 0.7579544029403025, 0.420571580830845, 0.25891675029296335], [0.5112747213686085, 0.4049341374504143, 0.7837985890347726, 0.30331272607892745], [0.4765969541523558, 0.5833820394550312, 0.9081128851953352, 0.5046868558173903]], [[0.28183784439970383, 0.7558042041572239, 0.6183689966753316, 0.25050634136244054], [0.9097462559682401, 0.9827854760376531, 0.8102172359965896, 0.9021659504395827], [0.3101475693193326, 0.7298317482601286, 0.8988382879679935, 0.6839839319154413]]]\n"
     ]
    },
    {
     "name": "stderr",
     "output_type": "stream",
     "text": [
      " 20%|██████████████████████████▉                                                                                                            | 9996/50000 [03:56<15:41, 42.49it/s]"
     ]
    },
    {
     "name": "stdout",
     "output_type": "stream",
     "text": [
      "[[[0.8444218515250481, 0.7579544029403025, 0.420571580830845, 0.25891675029296335], [0.511274698701284, 0.4049341374504143, 0.7837985890347726, 0.30331272565930606], [0.47659680292115125, 0.5833820394550312, 0.9081128851953352, 0.504686853016576]], [[-1.1206707106101983, -0.6467043510924753, -0.7841395595380324, -1.152002213643022], [0.9313519113066225, 1.004391131393791, 0.8318228913593951, 0.9237716057801838], [-1.366861203114904, -0.9471770237211868, -0.7781704820595584, -0.9930248405187927]]]\n"
     ]
    },
    {
     "name": "stderr",
     "output_type": "stream",
     "text": [
      " 40%|█████████████████████████████████████████████████████▌                                                                                | 19999/50000 [07:54<11:48, 42.35it/s]"
     ]
    },
    {
     "name": "stdout",
     "output_type": "stream",
     "text": [
      "[[[0.8444218515250481, 0.7579544029403025, 0.420571580830845, 0.25891675029296335], [0.51127467603164, 0.4049341374504143, 0.7837985890347726, 0.30331272523964176], [0.4765966516749135, 0.5833820394550312, 0.9081128851953352, 0.5046868502154833]], [[-1.120670710250486, -0.6467043509725712, -0.7841395603818019, -1.1520022132788688], [0.9313519112955203, 1.0043911314004523, 0.8318228913727178, 0.923771605771302], [-1.3668612038298877, -0.9471770239831995, -0.7781704803675785, -0.9930248412337763]]]\n"
     ]
    },
    {
     "name": "stderr",
     "output_type": "stream",
     "text": [
      " 80%|███████████████████████████████████████████████████████████████████████████████████████████████████████████▏                          | 39996/50000 [15:43<03:51, 43.24it/s]"
     ]
    },
    {
     "name": "stdout",
     "output_type": "stream",
     "text": [
      "[[[0.8444218515250481, 0.7579544029403025, 0.420571580830845, 0.25891675029296335], [0.5112746306923521, 0.4049341374504143, 0.7837985890347726, 0.30331272440031315], [0.47659634917378657, 0.5833820394550312, 0.9081128851953352, 0.5046868446132979]], [[-1.1206707095310615, -0.646704350732763, -0.7841395620693409, -1.1520022125505625], [0.9313519112733158, 1.004391131413775, 0.8318228913993632, 0.9237716057535384], [-1.366861205259855, -0.9471770245072247, -0.7781704769836187, -0.9930248426637436]]]\n"
     ]
    },
    {
     "name": "stderr",
     "output_type": "stream",
     "text": [
      " 90%|████████████████████████████████████████████████████████████████████████████████████████████████████████████████████████▌             | 44998/50000 [17:41<01:56, 42.89it/s]"
     ]
    },
    {
     "name": "stdout",
     "output_type": "stream",
     "text": [
      "[[[0.8444218515250481, 0.7579544029403025, 0.420571580830845, 0.25891675029296335], [0.5112746193575302, 0.4049341374504143, 0.7837985890347726, 0.303312724190481], [0.47659627354650436, 0.5833820394550312, 0.9081128851953352, 0.5046868432127516]], [[-1.1206707093512054, -0.646704350672811, -0.7841395624912256, -1.1520022123684859], [0.9313519112677647, 1.0043911314171057, 0.8318228914060245, 0.9237716057490976], [-1.3668612056173468, -0.9471770246382311, -0.7781704761376288, -0.9930248430212354]]]\n"
     ]
    },
    {
     "name": "stderr",
     "output_type": "stream",
     "text": [
      "100%|██████████████████████████████████████████████████████████████████████████████████████████████████████████████████████████████████████| 50000/50000 [19:40<00:00, 42.36it/s]\n"
     ]
    }
   ],
   "source": [
    "########### Træning af model ###########\n",
    "\n",
    "###########\n",
    "# Opsætning af Neural Network\n",
    "###########\n",
    "random.seed(0) # to get repeatable results\n",
    "input_size = 3 # antal af input noder (samme antal som feautures)\n",
    "num_hidden = 3 # antal af hidden noder\n",
    "output_size = 3 # antal af output noder (i vores tilfælde, genres)\n",
    "\n",
    "# each hidden neuron has one weight per input, plus a bias weight\n",
    "hidden_layer = [[random.random() for __ in range(input_size + 1)] for __ in range(num_hidden)]\n",
    "\n",
    "# each output neuron has one weight per hidden neuron, plus a bias weight\n",
    "output_layer = [[random.random() for __ in range(num_hidden + 1)] for __ in range(output_size)]\n",
    "\n",
    "# the network starts out with random weights\n",
    "network = [hidden_layer, output_layer]\n",
    "\n",
    "# Iteration of training\n",
    "num = 0\n",
    "print(network)\n",
    "for __ in  tqdm(range(50000)):\n",
    "    num = num +1\n",
    "    if num == 10000 or num == 20000 or num == 40000 or num == 45000:\n",
    "        print(network)\n",
    "    for input_vector, target_vector in zip(inputs, targets):\n",
    "       \n",
    "        backpropagate(network, input_vector, target_vector)\n",
    "print(network)"
   ]
  },
  {
   "cell_type": "code",
   "execution_count": 20,
   "metadata": {},
   "outputs": [
    {
     "name": "stdout",
     "output_type": "stream",
     "text": [
      "[[292, -0.09597883597883598, 0.28423280423280417], [102, -0.009999999999999988, 0.3516666666666667], [103, 0.06, 0.62], [340, 0.15690359477124188, 0.3385620915032678], [217, 0.07628855519480511, 0.6662822420634921], [153, 0.19627450980392155, 0.6133333333333333], [190, -0.1220959595959596, 0.33181818181818185], [199, 0.047708333333333346, 0.4533333333333333], [241, 0.2197425381635908, 0.5253645477329689], [121, 0.03166666666666666, 0.5516666666666666]]\n",
      "##########################\n",
      "Index(['Hip-Hop', 'Rock', 'Pop'], dtype='object')\n",
      "[0.046076819280455414, 0.9518826118018368, 0.03678346163343867]\n"
     ]
    }
   ],
   "source": [
    "# 'Rock', 'Pop', 'Hip-Hop', 'Not Available', 'Metal', 'Country', 'Jazz', 'Electronic', 'Other', 'R&B', 'Indie', 'Folk'\n",
    "print(inputs[-10:])\n",
    "\n",
    "print('##########################')\n",
    "print(genre_labels)\n",
    "res = predict([1, -1,1], network)\n",
    "print(res)\n"
   ]
  },
  {
   "cell_type": "code",
   "execution_count": null,
   "metadata": {},
   "outputs": [],
   "source": []
  }
 ],
 "metadata": {
  "kernelspec": {
   "display_name": "Python 3",
   "language": "python",
   "name": "python3"
  },
  "language_info": {
   "codemirror_mode": {
    "name": "ipython",
    "version": 3
   },
   "file_extension": ".py",
   "mimetype": "text/x-python",
   "name": "python",
   "nbconvert_exporter": "python",
   "pygments_lexer": "ipython3",
   "version": "3.7.0"
  }
 },
 "nbformat": 4,
 "nbformat_minor": 2
}
