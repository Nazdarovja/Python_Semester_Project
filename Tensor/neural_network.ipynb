{
 "cells": [
  {
   "cell_type": "code",
   "execution_count": 198,
   "metadata": {},
   "outputs": [],
   "source": [
    "# TensorFlow and tf.keras\n",
    "import tensorflow as tf\n",
    "from tensorflow import keras\n",
    "\n",
    "# Helper libraries\n",
    "import numpy as np\n",
    "import matplotlib.pyplot as plt\n",
    "\n",
    "import pandas as pd\n",
    "import numpy as np\n"
   ]
  },
  {
   "cell_type": "code",
   "execution_count": 3,
   "metadata": {},
   "outputs": [],
   "source": [
    "# import data\n",
    "df = pd.read_pickle('./data/clean_with_lan_and_words.pkl')\n"
   ]
  },
  {
   "cell_type": "code",
   "execution_count": 227,
   "metadata": {},
   "outputs": [],
   "source": [
    "def normalize(df, new_col_name, col_to_norm):\n",
    "    '''\n",
    "    ref: https://en.wikipedia.org/wiki/Normalization_(statistics)\n",
    "    '''\n",
    "    df = df.copy()\n",
    "    max = df[col_to_norm].max()\n",
    "    min = df[col_to_norm].min()\n",
    "\n",
    "    df[new_col_name] = df[col_to_norm].apply(lambda val: (val-min)/(max-min))\n",
    "    return df\n",
    "\n",
    "def _count_words(words):\n",
    "    try:\n",
    "        return len(words.split())\n",
    "    except:\n",
    "        return 0 #TODO: better error handling, maybe not return 0\n",
    "\n",
    "def word_count(df, new_col_name, col_with_lyrics):\n",
    "    df = df.copy()\n",
    "    df[new_col_name] = df[col_with_lyrics].apply(lambda words: _count_words(words))\n",
    "    return df\n",
    "\n",
    "def remove_outliers(df, col_to_process, low=.05, high=.95):\n",
    "    df = df.copy()\n",
    "    min, max = df[col_to_process].quantile([low,high])\n",
    "    df = df[(df[col_to_process] >= min) & (df[col_to_process] <= max)]\n",
    "    return df.reset_index(drop=True)\n",
    "\n",
    "def prepare_data(df, data_cols, label_col, training_size=1000, test_size=250):\n",
    "    labels = df_cp[label_col].value_counts().keys().tolist()\n",
    "    train_data, train_labels, test_data, test_labels = [], [], [], []\n",
    "    \n",
    "    for label in labels:\n",
    "        data = df[df[label_col] == label]\n",
    "        # kun hvis der er nok eksempler, ift. training_size og test_size, ud fra den pågældende label\n",
    "        if len(data) > training_size + test_size:\n",
    "            data = data.reset_index(drop=True)\n",
    "            train_data += data[data_cols][0:training_size].values.tolist()\n",
    "            train_labels += data[label_col][0:training_size].values.tolist()\n",
    "            test_data += data[data_cols][training_size:training_size+test_size].values.tolist()\n",
    "            test_labels += data[label_col][training_size:training_size+test_size].values.tolist()\n",
    "    \n",
    "    # da modellen kun kan trænes med numpy arrays, så skal listerne lige konverteres\n",
    "    train_data = np.asarray(train_data)\n",
    "    train_labels = np.asarray(train_labels)\n",
    "    test_data = np.asarray(test_data)\n",
    "    test_labels = np.asarray(test_labels)\n",
    "    \n",
    "    return (train_data, train_labels), (test_data, test_labels)\n",
    "        \n",
    "        "
   ]
  },
  {
   "cell_type": "code",
   "execution_count": null,
   "metadata": {},
   "outputs": [],
   "source": [
    "### TILFØJNING AF DATA ###\n",
    "df_cp = df.copy()\n",
    "# tilføj kategoriske numeriske værdier for genre\n",
    "df_cp.genre = pd.Categorical(df_cp.genre)\n",
    "df_cp['genre_code'] = df_cp.genre.cat.codes\n",
    "# optæl ord i sangtekst\n",
    "df_cp = word_count(df_cp, 'num_words', 'lyrics')\n",
    "# normaliser antal ord i sangtekst\n",
    "df_cp = normalize(df_cp, 'num_words_nm', 'num_words')\n",
    "\n",
    "### FJERNELSE A DATA ###\n",
    "# fjern outliers ud fra antal ord i sangtekst\n",
    "df_cp = remove_outliers(df_cp, 'num_words')\n",
    "# fjern col 'index'\n",
    "df_cp.drop(['index'], axis=1, inplace=True)\n",
    "\n",
    "### --> evt. gem dataset her ###\n",
    "\n",
    "(train_data, train_labels), (test_data, test_labels) = prepare_data(df_cp, ['num_words_nm'], 'genre_code')"
   ]
  },
  {
   "cell_type": "markdown",
   "metadata": {},
   "source": [
    "### Setup netværk lag\n",
    "\n",
    "- `input_nodes` er antallet af inputs parametrer/features\n",
    "- `hidden_nodes` anbefalet antal er svarende til et tal mellem input og output nodes\n",
    "- `output_nodes` er antallet af \"labels\" kategorier man forsøger at klassificerer for"
   ]
  },
  {
   "cell_type": "code",
   "execution_count": 229,
   "metadata": {},
   "outputs": [],
   "source": [
    "input_nodes = 1\n",
    "hidden_nodes = 4\n",
    "output_nodes = 12\n",
    "\n",
    "model = keras.Sequential([\n",
    "    keras.layers.Dense(input_nodes),\n",
    "    keras.layers.Dense(hidden_nodes, activation=tf.nn.sigmoid),\n",
    "    keras.layers.Dense(output_nodes, activation=tf.nn.sigmoid)\n",
    "])\n"
   ]
  },
  {
   "cell_type": "markdown",
   "metadata": {},
   "source": [
    "### Compile modellen\n",
    "Før modellen er klar til træning, mangler den nogle flere indstillinger. Disse er tilføjet under compiling:\n",
    "\n",
    "- Loss function — Denne måler hvor præcis modellen er under træning. Vi vil minimerer denne funktion til, at \"styre\" modellen i den rigtige retning.\n",
    "- Optimizer — Denne afgører hvordan modellen er opdateret, baseret på det data den ser \n",
    "- Metrics — Brugt til at monitorerer under træningen og testing trin."
   ]
  },
  {
   "cell_type": "code",
   "execution_count": 230,
   "metadata": {},
   "outputs": [],
   "source": [
    "model.compile(optimizer=tf.train.AdamOptimizer(), \n",
    "              loss='sparse_categorical_crossentropy',\n",
    "              metrics=['accuracy'])"
   ]
  },
  {
   "cell_type": "markdown",
   "metadata": {},
   "source": [
    "### Træning af modellen"
   ]
  },
  {
   "cell_type": "code",
   "execution_count": 231,
   "metadata": {},
   "outputs": [
    {
     "name": "stdout",
     "output_type": "stream",
     "text": [
      "<class 'numpy.ndarray'>\n",
      "Epoch 1/50\n",
      "12000/12000 [==============================] - 0s 40us/step - loss: 2.4909 - acc: 0.0803\n",
      "Epoch 2/50\n",
      "12000/12000 [==============================] - 0s 23us/step - loss: 2.4857 - acc: 0.0830\n",
      "Epoch 3/50\n",
      "12000/12000 [==============================] - 0s 25us/step - loss: 2.4852 - acc: 0.0847\n",
      "Epoch 4/50\n",
      "12000/12000 [==============================] - 0s 23us/step - loss: 2.4850 - acc: 0.0837\n",
      "Epoch 5/50\n",
      "12000/12000 [==============================] - 0s 22us/step - loss: 2.4849 - acc: 0.0883\n",
      "Epoch 6/50\n",
      "12000/12000 [==============================] - 0s 22us/step - loss: 2.4849 - acc: 0.0809\n",
      "Epoch 7/50\n",
      "12000/12000 [==============================] - 0s 22us/step - loss: 2.4848 - acc: 0.1007\n",
      "Epoch 8/50\n",
      "12000/12000 [==============================] - 0s 25us/step - loss: 2.4847 - acc: 0.0894\n",
      "Epoch 9/50\n",
      "12000/12000 [==============================] - 0s 23us/step - loss: 2.4845 - acc: 0.1018\n",
      "Epoch 10/50\n",
      "12000/12000 [==============================] - 0s 38us/step - loss: 2.4843 - acc: 0.1033\n",
      "Epoch 11/50\n",
      "12000/12000 [==============================] - 0s 23us/step - loss: 2.4841 - acc: 0.1050\n",
      "Epoch 12/50\n",
      "12000/12000 [==============================] - 0s 24us/step - loss: 2.4838 - acc: 0.0986\n",
      "Epoch 13/50\n",
      "12000/12000 [==============================] - 0s 25us/step - loss: 2.4834 - acc: 0.1157\n",
      "Epoch 14/50\n",
      "12000/12000 [==============================] - 0s 28us/step - loss: 2.4829 - acc: 0.1153\n",
      "Epoch 15/50\n",
      "12000/12000 [==============================] - 0s 25us/step - loss: 2.4822 - acc: 0.1221\n",
      "Epoch 16/50\n",
      "12000/12000 [==============================] - 0s 24us/step - loss: 2.4814 - acc: 0.1258\n",
      "Epoch 17/50\n",
      "12000/12000 [==============================] - 0s 24us/step - loss: 2.4802 - acc: 0.1242\n",
      "Epoch 18/50\n",
      "12000/12000 [==============================] - 0s 24us/step - loss: 2.4787 - acc: 0.1328\n",
      "Epoch 19/50\n",
      "12000/12000 [==============================] - 0s 27us/step - loss: 2.4765 - acc: 0.1241\n",
      "Epoch 20/50\n",
      "12000/12000 [==============================] - 0s 23us/step - loss: 2.4739 - acc: 0.1301\n",
      "Epoch 21/50\n",
      "12000/12000 [==============================] - 0s 25us/step - loss: 2.4706 - acc: 0.1308\n",
      "Epoch 22/50\n",
      "12000/12000 [==============================] - 0s 23us/step - loss: 2.4665 - acc: 0.1353\n",
      "Epoch 23/50\n",
      "12000/12000 [==============================] - 0s 24us/step - loss: 2.4614 - acc: 0.1350\n",
      "Epoch 24/50\n",
      "12000/12000 [==============================] - 0s 25us/step - loss: 2.4558 - acc: 0.1427\n",
      "Epoch 25/50\n",
      "12000/12000 [==============================] - 0s 26us/step - loss: 2.4496 - acc: 0.1398\n",
      "Epoch 26/50\n",
      "12000/12000 [==============================] - 0s 24us/step - loss: 2.4428 - acc: 0.1445\n",
      "Epoch 27/50\n",
      "12000/12000 [==============================] - 0s 38us/step - loss: 2.4360 - acc: 0.1445\n",
      "Epoch 28/50\n",
      "12000/12000 [==============================] - 0s 26us/step - loss: 2.4294 - acc: 0.1481\n",
      "Epoch 29/50\n",
      "12000/12000 [==============================] - 0s 24us/step - loss: 2.4232 - acc: 0.1508\n",
      "Epoch 30/50\n",
      "12000/12000 [==============================] - 0s 25us/step - loss: 2.4179 - acc: 0.1488\n",
      "Epoch 31/50\n",
      "12000/12000 [==============================] - 0s 24us/step - loss: 2.4133 - acc: 0.1463\n",
      "Epoch 32/50\n",
      "12000/12000 [==============================] - 0s 24us/step - loss: 2.4092 - acc: 0.1486\n",
      "Epoch 33/50\n",
      "12000/12000 [==============================] - 0s 24us/step - loss: 2.4061 - acc: 0.1463\n",
      "Epoch 34/50\n",
      "12000/12000 [==============================] - 0s 23us/step - loss: 2.4034 - acc: 0.1415\n",
      "Epoch 35/50\n",
      "12000/12000 [==============================] - 0s 24us/step - loss: 2.4014 - acc: 0.1457\n",
      "Epoch 36/50\n",
      "12000/12000 [==============================] - 0s 27us/step - loss: 2.3996 - acc: 0.1480\n",
      "Epoch 37/50\n",
      "12000/12000 [==============================] - 0s 24us/step - loss: 2.3983 - acc: 0.1463\n",
      "Epoch 38/50\n",
      "12000/12000 [==============================] - 0s 24us/step - loss: 2.3971 - acc: 0.1451\n",
      "Epoch 39/50\n",
      "12000/12000 [==============================] - 0s 24us/step - loss: 2.3961 - acc: 0.1478\n",
      "Epoch 40/50\n",
      "12000/12000 [==============================] - 0s 24us/step - loss: 2.3954 - acc: 0.1482\n",
      "Epoch 41/50\n",
      "12000/12000 [==============================] - 0s 24us/step - loss: 2.3949 - acc: 0.1444\n",
      "Epoch 42/50\n",
      "12000/12000 [==============================] - 0s 24us/step - loss: 2.3943 - acc: 0.1457\n",
      "Epoch 43/50\n",
      "12000/12000 [==============================] - 0s 24us/step - loss: 2.3938 - acc: 0.1472\n",
      "Epoch 44/50\n",
      "12000/12000 [==============================] - 0s 38us/step - loss: 2.3934 - acc: 0.1437\n",
      "Epoch 45/50\n",
      "12000/12000 [==============================] - 0s 24us/step - loss: 2.3929 - acc: 0.1484\n",
      "Epoch 46/50\n",
      "12000/12000 [==============================] - 0s 24us/step - loss: 2.3928 - acc: 0.1447\n",
      "Epoch 47/50\n",
      "12000/12000 [==============================] - 0s 26us/step - loss: 2.3923 - acc: 0.1452\n",
      "Epoch 48/50\n",
      "12000/12000 [==============================] - 0s 26us/step - loss: 2.3921 - acc: 0.1482\n",
      "Epoch 49/50\n",
      "12000/12000 [==============================] - 0s 24us/step - loss: 2.3919 - acc: 0.1454\n",
      "Epoch 50/50\n",
      "12000/12000 [==============================] - 0s 24us/step - loss: 2.3916 - acc: 0.1462\n"
     ]
    },
    {
     "data": {
      "text/plain": [
       "<tensorflow.python.keras.callbacks.History at 0x1c38f0feb00>"
      ]
     },
     "execution_count": 231,
     "metadata": {},
     "output_type": "execute_result"
    }
   ],
   "source": [
    "model.fit(train_data, train_labels, epochs=50)"
   ]
  },
  {
   "cell_type": "markdown",
   "metadata": {},
   "source": [
    "### Evaluerer præcisionen"
   ]
  },
  {
   "cell_type": "code",
   "execution_count": 233,
   "metadata": {},
   "outputs": [
    {
     "name": "stdout",
     "output_type": "stream",
     "text": [
      "3000/3000 [==============================] - 0s 16us/step\n",
      "Test accuracy: 0.11566666666666667\n"
     ]
    }
   ],
   "source": [
    "test_loss, test_acc = model.evaluate(test_data, test_labels)\n",
    "\n",
    "print('Test accuracy:', test_acc)"
   ]
  },
  {
   "cell_type": "markdown",
   "metadata": {},
   "source": [
    "### Predictions"
   ]
  },
  {
   "cell_type": "code",
   "execution_count": 236,
   "metadata": {},
   "outputs": [
    {
     "name": "stdout",
     "output_type": "stream",
     "text": [
      "klassificeringer\n",
      "[[0.0338759  0.17233364 0.02673569 0.96144205 0.04695294 0.03703632\n",
      "  0.0153113  0.11624471 0.09467284 0.36417633 0.1673174  0.08110837]]\n",
      "model gætter på: 3 som er Hip-Hop\n"
     ]
    }
   ],
   "source": [
    "input = np.asarray([0.12])\n",
    "prediction = model.predict(input)\n",
    "\n",
    "print('klassificeringer')\n",
    "print(prediction)\n",
    "\n",
    "print(f'model gætter på: {np.argmax(prediction)} som er {df_cp[df_cp.genre_code == np.argmax(prediction)].genre[0]}')"
   ]
  },
  {
   "cell_type": "code",
   "execution_count": null,
   "metadata": {},
   "outputs": [],
   "source": []
  }
 ],
 "metadata": {
  "kernelspec": {
   "display_name": "Python 3",
   "language": "python",
   "name": "python3"
  },
  "language_info": {
   "codemirror_mode": {
    "name": "ipython",
    "version": 3
   },
   "file_extension": ".py",
   "mimetype": "text/x-python",
   "name": "python",
   "nbconvert_exporter": "python",
   "pygments_lexer": "ipython3",
   "version": "3.6.5"
  }
 },
 "nbformat": 4,
 "nbformat_minor": 2
}
